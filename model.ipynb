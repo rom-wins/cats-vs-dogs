{
 "cells": [
  {
   "cell_type": "code",
   "execution_count": 30,
   "metadata": {},
   "outputs": [],
   "source": [
    "import os\n",
    "from random import shuffle\n",
    "import pandas as pd\n",
    "from tqdm import tqdm\n",
    "import matplotlib.pyplot as plt\n",
    "import torch\n",
    "import torchvision\n",
    "import numpy as np\n",
    "from PIL import Image\n",
    "import random"
   ]
  },
  {
   "cell_type": "code",
   "execution_count": 31,
   "metadata": {},
   "outputs": [],
   "source": [
    "random.seed(0)\n",
    "np.random.seed(0)\n",
    "torch.manual_seed(0)\n",
    "torch.cuda.manual_seed(0)\n",
    "torch.backends.cudnn.deterministic = True"
   ]
  },
  {
   "cell_type": "code",
   "execution_count": 32,
   "metadata": {},
   "outputs": [],
   "source": [
    "TRAIN_PATH = 'train/'\n",
    "TEST_PATH = 'test/'\n",
    "IMAGE_SIZE = (64, 64)\n",
    "LABELS = {'dog' : 1, 'cat' : 0}\n",
    "device = torch.device('cuda:0' if torch.cuda.is_available() else 'cpu')\n",
    "batch_size = 20"
   ]
  },
  {
   "cell_type": "code",
   "execution_count": 33,
   "metadata": {},
   "outputs": [],
   "source": [
    "def make_data_batch(df, indxs, batch_size):\n",
    "    Xs = []\n",
    "    Ys = []\n",
    "    \n",
    "    transform = torchvision.transforms.Compose([\n",
    "    torchvision.transforms.Resize(IMAGE_SIZE),\n",
    "    torchvision.transforms.RandomHorizontalFlip(0.5),\n",
    "    torchvision.transforms.ToTensor(),\n",
    "    torchvision.transforms.Normalize(mean=[0.4884, 0.4551, 0.4170], std=[0.2256, 0.2210, 0.2214])])\n",
    "    i = 0\n",
    "    while True:\n",
    "        \n",
    "        info = df.iloc[indxs[i]]\n",
    "        fname = info['file_name']\n",
    "        y = int(info['label'])\n",
    "            \n",
    "        image = Image.open(fname)\n",
    "            \n",
    "        tensor = transform(image)\n",
    "        tensor = np.array(tensor)                \n",
    "        tensor = tensor / 255.\n",
    "            \n",
    "        Xs.append(tensor)\n",
    "        Ys.append(y)\n",
    "        i += 1\n",
    "        if len(Xs) == batch_size:\n",
    "            X = Xs\n",
    "            Y = Ys\n",
    "            Xs = []\n",
    "            Ys = []\n",
    "            yield X, Y"
   ]
  },
  {
   "cell_type": "code",
   "execution_count": 34,
   "metadata": {},
   "outputs": [],
   "source": [
    "def make_data(df, indxs):\n",
    "    Xs = []\n",
    "    Ys = []\n",
    "    \n",
    "    transform = torchvision.transforms.Compose([\n",
    "    torchvision.transforms.Resize(IMAGE_SIZE),\n",
    "    torchvision.transforms.ToTensor(),\n",
    "    torchvision.transforms.Normalize(mean=[0.4884, 0.4551, 0.4170], std=[0.2256, 0.2210, 0.2214])])\n",
    "\n",
    "    for i in tqdm(range(len(indxs))):\n",
    "                        \n",
    "        info = df.iloc[indxs[i]]\n",
    "        fname = info['file_name']\n",
    "        y = int(info['label'])\n",
    "            \n",
    "        image = Image.open(fname)\n",
    "\n",
    "        tensor = transform(image)\n",
    "        tensor = np.array(tensor)\n",
    "        tensor = tensor / 255.\n",
    "        \n",
    "        Xs.append(tensor)\n",
    "        Ys.append(y)\n",
    "    \n",
    "    return Xs, Ys"
   ]
  },
  {
   "cell_type": "code",
   "execution_count": 35,
   "metadata": {},
   "outputs": [],
   "source": [
    "file_names_train = os.listdir(TRAIN_PATH)\n",
    "shuffle(file_names_train)\n",
    "\n",
    "file_names_test = os.listdir(TEST_PATH)"
   ]
  },
  {
   "cell_type": "code",
   "execution_count": 36,
   "metadata": {},
   "outputs": [
    {
     "name": "stderr",
     "output_type": "stream",
     "text": [
      "100%|███████████████████████████████████████████████████████████████████████████| 25000/25000 [00:41<00:00, 602.35it/s]\n"
     ]
    }
   ],
   "source": [
    "all_data_df = pd.DataFrame({'file_name': [], 'label' : []})\n",
    "for file in tqdm(file_names_train):\n",
    "    path = TRAIN_PATH + file\n",
    "    label = file.split('.')[0]\n",
    "    all_data_df = all_data_df.append({'file_name' : path, 'label' : LABELS[label]}, ignore_index=True)\n"
   ]
  },
  {
   "cell_type": "code",
   "execution_count": 37,
   "metadata": {},
   "outputs": [
    {
     "data": {
      "text/html": [
       "<div>\n",
       "<style scoped>\n",
       "    .dataframe tbody tr th:only-of-type {\n",
       "        vertical-align: middle;\n",
       "    }\n",
       "\n",
       "    .dataframe tbody tr th {\n",
       "        vertical-align: top;\n",
       "    }\n",
       "\n",
       "    .dataframe thead th {\n",
       "        text-align: right;\n",
       "    }\n",
       "</style>\n",
       "<table border=\"1\" class=\"dataframe\">\n",
       "  <thead>\n",
       "    <tr style=\"text-align: right;\">\n",
       "      <th></th>\n",
       "      <th>file_name</th>\n",
       "      <th>label</th>\n",
       "    </tr>\n",
       "  </thead>\n",
       "  <tbody>\n",
       "    <tr>\n",
       "      <th>0</th>\n",
       "      <td>train/dog.7543.jpg</td>\n",
       "      <td>1.0</td>\n",
       "    </tr>\n",
       "    <tr>\n",
       "      <th>1</th>\n",
       "      <td>train/dog.5932.jpg</td>\n",
       "      <td>1.0</td>\n",
       "    </tr>\n",
       "    <tr>\n",
       "      <th>2</th>\n",
       "      <td>train/dog.6037.jpg</td>\n",
       "      <td>1.0</td>\n",
       "    </tr>\n",
       "    <tr>\n",
       "      <th>3</th>\n",
       "      <td>train/dog.5233.jpg</td>\n",
       "      <td>1.0</td>\n",
       "    </tr>\n",
       "    <tr>\n",
       "      <th>4</th>\n",
       "      <td>train/dog.5498.jpg</td>\n",
       "      <td>1.0</td>\n",
       "    </tr>\n",
       "  </tbody>\n",
       "</table>\n",
       "</div>"
      ],
      "text/plain": [
       "            file_name  label\n",
       "0  train/dog.7543.jpg    1.0\n",
       "1  train/dog.5932.jpg    1.0\n",
       "2  train/dog.6037.jpg    1.0\n",
       "3  train/dog.5233.jpg    1.0\n",
       "4  train/dog.5498.jpg    1.0"
      ]
     },
     "execution_count": 37,
     "metadata": {},
     "output_type": "execute_result"
    }
   ],
   "source": [
    "all_data_df.head()"
   ]
  },
  {
   "cell_type": "code",
   "execution_count": 38,
   "metadata": {},
   "outputs": [],
   "source": [
    "validation_df = all_data_df.iloc[20000:]\n",
    "train_df = all_data_df.iloc[:20000]"
   ]
  },
  {
   "cell_type": "code",
   "execution_count": 39,
   "metadata": {},
   "outputs": [
    {
     "name": "stdout",
     "output_type": "stream",
     "text": [
      "20000\n",
      "5000\n"
     ]
    }
   ],
   "source": [
    "print(len(train_df))\n",
    "print(len(validation_df))"
   ]
  },
  {
   "cell_type": "code",
   "execution_count": 40,
   "metadata": {},
   "outputs": [],
   "source": [
    "count_of_dogs_train = len(train_df.query('label == 1.0'))\n",
    "count_of_cats_train = len(train_df.query('label == 0.0'))"
   ]
  },
  {
   "cell_type": "code",
   "execution_count": 41,
   "metadata": {},
   "outputs": [
    {
     "data": {
      "text/plain": [
       "Text(0.5, 0, 'Labels')"
      ]
     },
     "execution_count": 41,
     "metadata": {},
     "output_type": "execute_result"
    },
    {
     "data": {
      "image/png": "[encoded data removed]",
      "text/plain": [
       "<Figure size 800x400 with 1 Axes>"
      ]
     },
     "metadata": {
      "needs_background": "light"
     },
     "output_type": "display_data"
    }
   ],
   "source": [
    "plt.figure(figsize=(10,5), dpi= 80)\n",
    "plt.bar('dog', count_of_dogs_train, color='blue', width=.5)\n",
    "plt.bar('cat', count_of_cats_train, color='black', width=.5)\n",
    "plt.title('Number of cats and dogs in train data', fontsize=22)\n",
    "plt.ylabel('Count', fontsize=15)\n",
    "plt.xlabel('Labels', fontsize=15)"
   ]
  },
  {
   "cell_type": "code",
   "execution_count": 42,
   "metadata": {},
   "outputs": [],
   "source": [
    "count_of_dogs_validation = len(validation_df.query('label == 1.0'))\n",
    "count_of_cats_validation = len(validation_df.query('label == 0.0'))"
   ]
  },
  {
   "cell_type": "code",
   "execution_count": 43,
   "metadata": {},
   "outputs": [
    {
     "data": {
      "text/plain": [
       "Text(0.5, 0, 'Labels')"
      ]
     },
     "execution_count": 43,
     "metadata": {},
     "output_type": "execute_result"
    },
    {
     "data": {
      "image/png": "[encoded data removed]",
      "text/plain": [
       "<Figure size 800x400 with 1 Axes>"
      ]
     },
     "metadata": {
      "needs_background": "light"
     },
     "output_type": "display_data"
    }
   ],
   "source": [
    "plt.figure(figsize=(10,5), dpi= 80)\n",
    "plt.bar('dog', count_of_dogs_validation, color='blue', width=.5)\n",
    "plt.bar('cat', count_of_cats_validation, color='black', width=.5)\n",
    "plt.title('Number of cats and dogs in validation data', fontsize=22)\n",
    "plt.ylabel('Count', fontsize=15)\n",
    "plt.xlabel('Labels', fontsize=15)"
   ]
  },
  {
   "cell_type": "code",
   "execution_count": 44,
   "metadata": {},
   "outputs": [
    {
     "name": "stderr",
     "output_type": "stream",
     "text": [
      "100%|█████████████████████████████████████████████████████████████████████████████| 5000/5000 [00:17<00:00, 286.71it/s]\n"
     ]
    }
   ],
   "source": [
    "train_indxes = np.array([i for i in range(len(train_df))])\n",
    "validation_indexes = np.array([i for i in range(len(validation_df))])\n",
    "\n",
    "validation_data = make_data(validation_df, validation_indexes)"
   ]
  },
  {
   "cell_type": "code",
   "execution_count": 45,
   "metadata": {},
   "outputs": [
    {
     "data": {
      "text/plain": [
       "array([    0,     1,     2, ..., 19997, 19998, 19999])"
      ]
     },
     "execution_count": 45,
     "metadata": {},
     "output_type": "execute_result"
    }
   ],
   "source": [
    "train_indxes"
   ]
  },
  {
   "cell_type": "code",
   "execution_count": 46,
   "metadata": {},
   "outputs": [
    {
     "data": {
      "text/plain": [
       "<bound method NDFrame.tail of                  file_name  label\n",
       "0       train/dog.7543.jpg    1.0\n",
       "1       train/dog.5932.jpg    1.0\n",
       "2       train/dog.6037.jpg    1.0\n",
       "3       train/dog.5233.jpg    1.0\n",
       "4       train/dog.5498.jpg    1.0\n",
       "...                    ...    ...\n",
       "19995   train/cat.8015.jpg    0.0\n",
       "19996   train/cat.2251.jpg    0.0\n",
       "19997   train/dog.3573.jpg    1.0\n",
       "19998  train/cat.10646.jpg    0.0\n",
       "19999   train/dog.6947.jpg    1.0\n",
       "\n",
       "[20000 rows x 2 columns]>"
      ]
     },
     "execution_count": 46,
     "metadata": {},
     "output_type": "execute_result"
    }
   ],
   "source": [
    "train_df.tail"
   ]
  },
  {
   "cell_type": "code",
   "execution_count": 47,
   "metadata": {},
   "outputs": [
    {
     "data": {
      "text/plain": [
       "(3, 64, 64)"
      ]
     },
     "execution_count": 47,
     "metadata": {},
     "output_type": "execute_result"
    }
   ],
   "source": [
    "(validation_data[0][0].shape)"
   ]
  },
  {
   "cell_type": "code",
   "execution_count": 48,
   "metadata": {},
   "outputs": [],
   "source": [
    "X_val = torch.FloatTensor(validation_data[0])\n",
    "\n",
    "Y_val = torch.LongTensor(validation_data[1])"
   ]
  },
  {
   "cell_type": "code",
   "execution_count": 61,
   "metadata": {},
   "outputs": [],
   "source": [
    "def train(net, x_val, y_val, epochs=30):\n",
    "    \n",
    "    val_accuracy_history = []\n",
    "    val_loss_history = []\n",
    "    \n",
    "    net = net.to(device)\n",
    "    loss = torch.nn.CrossEntropyLoss()\n",
    "    \n",
    "    optimizer = torch.optim.RMSprop(net.parameters(), lr=0.0001, weight_decay=1e-4)\n",
    "    x_val = x_val.to(device)\n",
    "    y_val = y_val.to(device)\n",
    "    \n",
    "    for epoch in range(epochs):\n",
    "    \n",
    "        gen = make_data_batch(train_df, train_indxes, batch_size)\n",
    "        \n",
    "        for start_index in range(len(train_indxes) // batch_size):\n",
    "            \n",
    "            optimizer.zero_grad()\n",
    "            net.train()\n",
    "\n",
    "            batch = next(gen)\n",
    "            x_batch = torch.FloatTensor(batch[0]).to(device)\n",
    "            y_batch = torch.LongTensor(batch[1]).to(device)\n",
    "\n",
    "            preds = net.forward(x_batch)\n",
    "            loss_value = loss(preds, y_batch)\n",
    "            \n",
    "            accuracy_train = (preds.argmax(dim=1) == y_batch).float().mean().data.cpu()\n",
    "            \n",
    "            \n",
    "            col_r = int(start_index / epochs)\n",
    "\n",
    "            print('#' * col_r + '-' * (epochs - col_r) + ' epoch: ' + str(epoch) + '| accuracy train: ' + \n",
    "                  str(round(float(accuracy_train), 4)) + '| loss train: ' + \n",
    "                  str(round(float(loss_value.data), 4)), end='\\r')\n",
    "\n",
    "            loss_value.backward()\n",
    "            optimizer.step()\n",
    "            \n",
    "            \n",
    "\n",
    "        net.eval()\n",
    "        val_preds = net.forward(x_val)\n",
    "        loss_val = loss(val_preds, y_val).data.cpu()\n",
    "        val_loss_history.append(loss_val)\n",
    "        \n",
    "\n",
    "        accuracy = (val_preds.argmax(dim=1) == y_val).float().mean().data.cpu()\n",
    "        \n",
    "        val_accuracy_history.append(accuracy)\n",
    "        print()\n",
    "        print('accuracy validation:', accuracy, '| loss validation:', loss_val)\n",
    "\n",
    "    return val_accuracy_history, val_loss_history\n"
   ]
  },
  {
   "cell_type": "code",
   "execution_count": 62,
   "metadata": {},
   "outputs": [],
   "source": [
    "class Model_1(torch.nn.Module):\n",
    "    def __init__(self):\n",
    "        super(Model_1, self).__init__()\n",
    "        \n",
    "        self.conv1       = torch.nn.Conv2d(3, 32, 3, padding=1)\n",
    "        self.act1        = torch.nn.ReLU()\n",
    "        self.batch_norm1 = torch.nn.BatchNorm2d(32)\n",
    "        self.pool1       = torch.nn.MaxPool2d(2, 2)\n",
    "        self.do1         = torch.nn.Dropout2d(0.25)\n",
    "        \n",
    "        self.conv2       = torch.nn.Conv2d(32, 64, 3, padding=1)\n",
    "        self.act2        = torch.nn.ReLU()\n",
    "        self.batch_norm2 = torch.nn.BatchNorm2d(64)\n",
    "        self.pool2       = torch.nn.MaxPool2d(2, 2)\n",
    "        self.do2         = torch.nn.Dropout2d(0.25)\n",
    "        \n",
    "        self.conv3       = torch.nn.Conv2d(64, 128, 3, padding=1)\n",
    "        self.act3        = torch.nn.ReLU()\n",
    "        self.batch_norm3 = torch.nn.BatchNorm2d(128)\n",
    "        self.pool3       = torch.nn.MaxPool2d(2, 2)\n",
    "        self.do3         = torch.nn.Dropout2d(0.25)\n",
    "        \n",
    "        self.flat        = torch.nn.Flatten()\n",
    "        \n",
    "        self.fc1         = torch.nn.Linear(8192, 512)\n",
    "        self.batch_norm4 = torch.nn.BatchNorm1d(512)\n",
    "        self.do4         = torch.nn.Dropout(0.5)\n",
    "        self.act4        = torch.nn.ReLU()\n",
    "        \n",
    "        self.fc2         = torch.nn.Linear(512, 2)\n",
    "        self.act5        = torch.nn.Sigmoid()\n",
    "\n",
    "    def forward(self, x):\n",
    "        \n",
    "        x = self.conv1(x)\n",
    "        x = self.act1(x)\n",
    "        x = self.batch_norm1(x)\n",
    "        x = self.pool1(x)\n",
    "        x = self.do1(x)\n",
    "        \n",
    "        x = self.conv2(x)\n",
    "        x = self.act2(x)\n",
    "        x = self.batch_norm2(x)\n",
    "        x = self.pool2(x)\n",
    "        x = self.do2(x)\n",
    "        \n",
    "        x = self.conv3(x)\n",
    "        x = self.act3(x)\n",
    "        x = self.batch_norm3(x)\n",
    "        x = self.pool3(x)\n",
    "        x = self.do3(x)\n",
    "        \n",
    "        x = self.flat(x)\n",
    "        \n",
    "        x = self.fc1(x)\n",
    "        x = self.batch_norm4(x)\n",
    "        x = self.do4(x)\n",
    "        x = self.act4(x)\n",
    "        \n",
    "        x = self.fc2(x)\n",
    "        x = self.act5(x)\n",
    "        \n",
    "        return x"
   ]
  },
  {
   "cell_type": "code",
   "execution_count": 63,
   "metadata": {},
   "outputs": [],
   "source": [
    "final_accuracies = {}\n",
    "final_losses = {}"
   ]
  },
  {
   "cell_type": "code",
   "execution_count": 64,
   "metadata": {},
   "outputs": [
    {
     "name": "stdout",
     "output_type": "stream",
     "text": [
      "################################# epoch: 0| accuracy train: 0.7| loss train: 0.62916\n",
      "accuracy validation: tensor(0.6912) | loss validation: tensor(0.5939)\n",
      "################################# epoch: 1| accuracy train: 0.9| loss train: 0.46862\n",
      "accuracy validation: tensor(0.7388) | loss validation: tensor(0.5573)\n",
      "################################# epoch: 2| accuracy train: 0.9| loss train: 0.45999\n",
      "accuracy validation: tensor(0.7630) | loss validation: tensor(0.5339)\n",
      "################################# epoch: 3| accuracy train: 1.0| loss train: 0.39411\n",
      "accuracy validation: tensor(0.7726) | loss validation: tensor(0.5252)\n",
      "################################# epoch: 4| accuracy train: 0.75| loss train: 0.5273\n",
      "accuracy validation: tensor(0.7746) | loss validation: tensor(0.5256)\n",
      "################################# epoch: 5| accuracy train: 0.85| loss train: 0.4503\n",
      "accuracy validation: tensor(0.7824) | loss validation: tensor(0.5194)\n",
      "################################# epoch: 6| accuracy train: 0.95| loss train: 0.3894\n",
      "accuracy validation: tensor(0.7966) | loss validation: tensor(0.5038)\n",
      "################################# epoch: 7| accuracy train: 0.95| loss train: 0.4028\n",
      "accuracy validation: tensor(0.7966) | loss validation: tensor(0.5014)\n",
      "################################# epoch: 8| accuracy train: 0.8| loss train: 0.43395\n",
      "accuracy validation: tensor(0.8116) | loss validation: tensor(0.4924)\n",
      "################################# epoch: 9| accuracy train: 0.9| loss train: 0.44426\n",
      "accuracy validation: tensor(0.8128) | loss validation: tensor(0.4908)\n",
      "################################# epoch: 10| accuracy train: 0.95| loss train: 0.3999\n",
      "accuracy validation: tensor(0.8100) | loss validation: tensor(0.4916)\n",
      "################################# epoch: 11| accuracy train: 0.9| loss train: 0.41523\n",
      "accuracy validation: tensor(0.8204) | loss validation: tensor(0.4828)\n",
      "################################# epoch: 12| accuracy train: 0.85| loss train: 0.4379\n",
      "accuracy validation: tensor(0.8166) | loss validation: tensor(0.4855)\n",
      "################################# epoch: 13| accuracy train: 0.9| loss train: 0.42597\n",
      "accuracy validation: tensor(0.8250) | loss validation: tensor(0.4782)\n",
      "################################# epoch: 14| accuracy train: 0.9| loss train: 0.43851\n",
      "accuracy validation: tensor(0.8310) | loss validation: tensor(0.4755)\n",
      "################################# epoch: 15| accuracy train: 0.9| loss train: 0.40053\n",
      "accuracy validation: tensor(0.8358) | loss validation: tensor(0.4709)\n",
      "################################# epoch: 16| accuracy train: 0.9| loss train: 0.44281\n",
      "accuracy validation: tensor(0.8356) | loss validation: tensor(0.4703)\n",
      "################################# epoch: 17| accuracy train: 0.95| loss train: 0.3584\n",
      "accuracy validation: tensor(0.8392) | loss validation: tensor(0.4695)\n",
      "################################# epoch: 18| accuracy train: 0.9| loss train: 0.41153\n",
      "accuracy validation: tensor(0.8398) | loss validation: tensor(0.4666)\n",
      "################################# epoch: 19| accuracy train: 0.85| loss train: 0.4204\n",
      "accuracy validation: tensor(0.8328) | loss validation: tensor(0.4714)\n",
      "################################# epoch: 20| accuracy train: 0.9| loss train: 0.40598\n",
      "accuracy validation: tensor(0.8370) | loss validation: tensor(0.4690)\n",
      "################################# epoch: 21| accuracy train: 0.9| loss train: 0.41043\n",
      "accuracy validation: tensor(0.8360) | loss validation: tensor(0.4706)\n",
      "################################# epoch: 22| accuracy train: 0.95| loss train: 0.3786\n",
      "accuracy validation: tensor(0.8340) | loss validation: tensor(0.4691)\n",
      "################################# epoch: 23| accuracy train: 0.9| loss train: 0.42431\n",
      "accuracy validation: tensor(0.8450) | loss validation: tensor(0.4620)\n",
      "################################# epoch: 24| accuracy train: 0.9| loss train: 0.40481\n",
      "accuracy validation: tensor(0.8394) | loss validation: tensor(0.4662)\n",
      "################################# epoch: 25| accuracy train: 0.85| loss train: 0.4382\n",
      "accuracy validation: tensor(0.8448) | loss validation: tensor(0.4628)\n",
      "################################# epoch: 26| accuracy train: 0.95| loss train: 0.3831\n",
      "accuracy validation: tensor(0.8438) | loss validation: tensor(0.4617)\n",
      "################################# epoch: 27| accuracy train: 1.0| loss train: 0.36414\n",
      "accuracy validation: tensor(0.8414) | loss validation: tensor(0.4676)\n",
      "################################# epoch: 28| accuracy train: 0.9| loss train: 0.39266\n",
      "accuracy validation: tensor(0.8452) | loss validation: tensor(0.4605)\n",
      "################################# epoch: 29| accuracy train: 0.95| loss train: 0.3529\n",
      "accuracy validation: tensor(0.8358) | loss validation: tensor(0.4702)\n"
     ]
    }
   ],
   "source": [
    "model_1 = Model_1()\n",
    "\n",
    "final_accuracies['Model_1'], final_losses['Model_1'] = \\\n",
    "        train(model_1, X_val, Y_val)"
   ]
  },
  {
   "cell_type": "code",
   "execution_count": 65,
   "metadata": {},
   "outputs": [
    {
     "data": {
      "image/png": "[encoded data removed]",
      "text/plain": [
       "<Figure size 432x288 with 1 Axes>"
      ]
     },
     "metadata": {
      "needs_background": "light"
     },
     "output_type": "display_data"
    }
   ],
   "source": [
    "for experiment_id in final_losses.keys():\n",
    "    plt.plot(final_losses[experiment_id], label=experiment_id)\n",
    "plt.legend()\n",
    "plt.title('Validation Loss');"
   ]
  },
  {
   "cell_type": "code",
   "execution_count": 66,
   "metadata": {},
   "outputs": [
    {
     "data": {
      "image/png": "[encoded data removed]",
      "text/plain": [
       "<Figure size 432x288 with 1 Axes>"
      ]
     },
     "metadata": {
      "needs_background": "light"
     },
     "output_type": "display_data"
    }
   ],
   "source": [
    "for experiment_id in final_accuracies.keys():\n",
    "    plt.plot(final_accuracies[experiment_id], label=experiment_id)\n",
    "plt.legend()\n",
    "plt.title('Validation Accuracy');"
   ]
  },
  {
   "cell_type": "code",
   "execution_count": 67,
   "metadata": {},
   "outputs": [],
   "source": [
    "torch.save(model_1.state_dict(), 'Model_1.pkl')"
   ]
  },
  {
   "cell_type": "code",
   "execution_count": 68,
   "metadata": {},
   "outputs": [
    {
     "data": {
      "text/plain": [
       "Model_1(\n",
       "  (conv1): Conv2d(3, 32, kernel_size=(3, 3), stride=(1, 1), padding=(1, 1))\n",
       "  (act1): ReLU()\n",
       "  (batch_norm1): BatchNorm2d(32, eps=1e-05, momentum=0.1, affine=True, track_running_stats=True)\n",
       "  (pool1): MaxPool2d(kernel_size=2, stride=2, padding=0, dilation=1, ceil_mode=False)\n",
       "  (do1): Dropout2d(p=0.25, inplace=False)\n",
       "  (conv2): Conv2d(32, 64, kernel_size=(3, 3), stride=(1, 1), padding=(1, 1))\n",
       "  (act2): ReLU()\n",
       "  (batch_norm2): BatchNorm2d(64, eps=1e-05, momentum=0.1, affine=True, track_running_stats=True)\n",
       "  (pool2): MaxPool2d(kernel_size=2, stride=2, padding=0, dilation=1, ceil_mode=False)\n",
       "  (do2): Dropout2d(p=0.25, inplace=False)\n",
       "  (conv3): Conv2d(64, 128, kernel_size=(3, 3), stride=(1, 1), padding=(1, 1))\n",
       "  (act3): ReLU()\n",
       "  (batch_norm3): BatchNorm2d(128, eps=1e-05, momentum=0.1, affine=True, track_running_stats=True)\n",
       "  (pool3): MaxPool2d(kernel_size=2, stride=2, padding=0, dilation=1, ceil_mode=False)\n",
       "  (do3): Dropout2d(p=0.25, inplace=False)\n",
       "  (flat): Flatten(start_dim=1, end_dim=-1)\n",
       "  (fc2): Linear(in_features=8192, out_features=512, bias=True)\n",
       "  (batch_norm5): BatchNorm1d(512, eps=1e-05, momentum=0.1, affine=True, track_running_stats=True)\n",
       "  (do5): Dropout(p=0.5, inplace=False)\n",
       "  (act5): ReLU()\n",
       "  (fc3): Linear(in_features=512, out_features=2, bias=True)\n",
       "  (act6): Sigmoid()\n",
       ")"
      ]
     },
     "execution_count": 68,
     "metadata": {},
     "output_type": "execute_result"
    }
   ],
   "source": [
    "my_model = Model_1()\n",
    "my_model.load_state_dict(torch.load('Model_1.pkl'))\n",
    "my_model.eval()"
   ]
  },
  {
   "cell_type": "code",
   "execution_count": 89,
   "metadata": {},
   "outputs": [
    {
     "name": "stderr",
     "output_type": "stream",
     "text": [
      "100%|███████████████████████████████████████████████████████████████████████████| 12500/12500 [01:47<00:00, 115.91it/s]\n"
     ]
    }
   ],
   "source": [
    "test_df = pd.DataFrame({'id': [], 'label' : []})\n",
    "\n",
    "transform = torchvision.transforms.Compose([\n",
    "    torchvision.transforms.Resize(IMAGE_SIZE),\n",
    "    torchvision.transforms.ToTensor(),\n",
    "    torchvision.transforms.Normalize(mean=[0.4884, 0.4551, 0.4170], std=[0.2256, 0.2210, 0.2214])])\n",
    "\n",
    "for file in tqdm(file_names_test):\n",
    "    \n",
    "    image = Image.open(TEST_PATH + file)\n",
    "    tensor = transform(image)\n",
    "    tensor = np.array(tensor)\n",
    "    tensor = tensor / 255.\n",
    "    \n",
    "    tensor = tensor[np.newaxis, ...]\n",
    "    X = torch.FloatTensor(tensor)\n",
    "    \n",
    "    pred = my_model.forward(X)\n",
    "    Y = pred.argmax(dim=1)[0]\n",
    "    \n",
    "    test_df = test_df.append({'id' : int(file[:-4]), 'label' : int(Y)}, ignore_index=True)"
   ]
  },
  {
   "cell_type": "code",
   "execution_count": 90,
   "metadata": {},
   "outputs": [
    {
     "data": {
      "text/html": [
       "<div>\n",
       "<style scoped>\n",
       "    .dataframe tbody tr th:only-of-type {\n",
       "        vertical-align: middle;\n",
       "    }\n",
       "\n",
       "    .dataframe tbody tr th {\n",
       "        vertical-align: top;\n",
       "    }\n",
       "\n",
       "    .dataframe thead th {\n",
       "        text-align: right;\n",
       "    }\n",
       "</style>\n",
       "<table border=\"1\" class=\"dataframe\">\n",
       "  <thead>\n",
       "    <tr style=\"text-align: right;\">\n",
       "      <th></th>\n",
       "      <th>id</th>\n",
       "      <th>label</th>\n",
       "    </tr>\n",
       "  </thead>\n",
       "  <tbody>\n",
       "    <tr>\n",
       "      <th>0</th>\n",
       "      <td>1.0</td>\n",
       "      <td>1.0</td>\n",
       "    </tr>\n",
       "    <tr>\n",
       "      <th>1</th>\n",
       "      <td>10.0</td>\n",
       "      <td>0.0</td>\n",
       "    </tr>\n",
       "    <tr>\n",
       "      <th>2</th>\n",
       "      <td>100.0</td>\n",
       "      <td>0.0</td>\n",
       "    </tr>\n",
       "    <tr>\n",
       "      <th>3</th>\n",
       "      <td>1000.0</td>\n",
       "      <td>0.0</td>\n",
       "    </tr>\n",
       "    <tr>\n",
       "      <th>4</th>\n",
       "      <td>10000.0</td>\n",
       "      <td>1.0</td>\n",
       "    </tr>\n",
       "  </tbody>\n",
       "</table>\n",
       "</div>"
      ],
      "text/plain": [
       "        id  label\n",
       "0      1.0    1.0\n",
       "1     10.0    0.0\n",
       "2    100.0    0.0\n",
       "3   1000.0    0.0\n",
       "4  10000.0    1.0"
      ]
     },
     "execution_count": 90,
     "metadata": {},
     "output_type": "execute_result"
    }
   ],
   "source": [
    "test_df.head()"
   ]
  },
  {
   "cell_type": "code",
   "execution_count": 99,
   "metadata": {},
   "outputs": [],
   "source": [
    "test_df = test_df.sort_values('id').astype({'id' : 'Int64', 'label' : 'Int64', })"
   ]
  },
  {
   "cell_type": "code",
   "execution_count": 104,
   "metadata": {},
   "outputs": [
    {
     "data": {
      "text/html": [
       "<div>\n",
       "<style scoped>\n",
       "    .dataframe tbody tr th:only-of-type {\n",
       "        vertical-align: middle;\n",
       "    }\n",
       "\n",
       "    .dataframe tbody tr th {\n",
       "        vertical-align: top;\n",
       "    }\n",
       "\n",
       "    .dataframe thead th {\n",
       "        text-align: right;\n",
       "    }\n",
       "</style>\n",
       "<table border=\"1\" class=\"dataframe\">\n",
       "  <thead>\n",
       "    <tr style=\"text-align: right;\">\n",
       "      <th></th>\n",
       "      <th>id</th>\n",
       "      <th>label</th>\n",
       "    </tr>\n",
       "  </thead>\n",
       "  <tbody>\n",
       "    <tr>\n",
       "      <th>0</th>\n",
       "      <td>1</td>\n",
       "      <td>1</td>\n",
       "    </tr>\n",
       "    <tr>\n",
       "      <th>3612</th>\n",
       "      <td>2</td>\n",
       "      <td>1</td>\n",
       "    </tr>\n",
       "    <tr>\n",
       "      <th>4723</th>\n",
       "      <td>3</td>\n",
       "      <td>1</td>\n",
       "    </tr>\n",
       "    <tr>\n",
       "      <th>5834</th>\n",
       "      <td>4</td>\n",
       "      <td>1</td>\n",
       "    </tr>\n",
       "    <tr>\n",
       "      <th>6945</th>\n",
       "      <td>5</td>\n",
       "      <td>0</td>\n",
       "    </tr>\n",
       "  </tbody>\n",
       "</table>\n",
       "</div>"
      ],
      "text/plain": [
       "      id  label\n",
       "0      1      1\n",
       "3612   2      1\n",
       "4723   3      1\n",
       "5834   4      1\n",
       "6945   5      0"
      ]
     },
     "execution_count": 104,
     "metadata": {},
     "output_type": "execute_result"
    }
   ],
   "source": [
    "test_df.head()"
   ]
  },
  {
   "cell_type": "code",
   "execution_count": 105,
   "metadata": {},
   "outputs": [],
   "source": [
    "test_df.to_csv('answer.csv', index=False)"
   ]
  }
 ],
 "metadata": {
  "kernelspec": {
   "display_name": "Python 3",
   "language": "python",
   "name": "python3"
  },
  "language_info": {
   "codemirror_mode": {
    "name": "ipython",
    "version": 3
   },
   "file_extension": ".py",
   "mimetype": "text/x-python",
   "name": "python",
   "nbconvert_exporter": "python",
   "pygments_lexer": "ipython3",
   "version": "3.8.5"
  }
 },
 "nbformat": 4,
 "nbformat_minor": 4
}